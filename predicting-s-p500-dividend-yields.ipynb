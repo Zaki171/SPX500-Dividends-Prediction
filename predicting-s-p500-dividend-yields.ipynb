{
 "cells": [
  {
   "cell_type": "code",
   "execution_count": 1,
   "id": "79d02fa4",
   "metadata": {
    "_cell_guid": "b1076dfc-b9ad-4769-8c92-a6c4dae69d19",
    "_uuid": "8f2839f25d086af736a60e9eeb907d3b93b6e0e5",
    "execution": {
     "iopub.execute_input": "2023-08-31T09:02:00.387364Z",
     "iopub.status.busy": "2023-08-31T09:02:00.386834Z",
     "iopub.status.idle": "2023-08-31T09:02:00.401358Z",
     "shell.execute_reply": "2023-08-31T09:02:00.400270Z"
    },
    "papermill": {
     "duration": 0.033466,
     "end_time": "2023-08-31T09:02:00.403792",
     "exception": false,
     "start_time": "2023-08-31T09:02:00.370326",
     "status": "completed"
    },
    "tags": []
   },
   "outputs": [],
   "source": [
    "import numpy as np\n",
    "import pandas as pd"
   ]
  },
  {
   "cell_type": "markdown",
   "id": "f2312bbe",
   "metadata": {
    "papermill": {
     "duration": 0.012714,
     "end_time": "2023-08-31T09:02:00.429806",
     "exception": false,
     "start_time": "2023-08-31T09:02:00.417092",
     "status": "completed"
    },
    "tags": []
   },
   "source": [
    "# Predicting S&P500 Dividend Yields using Linear Regression\n",
    "\n",
    "#### Special thanks to Dan Hirlea for his support and advice throughout this project!"
   ]
  },
  {
   "cell_type": "markdown",
   "id": "fbbf10a1",
   "metadata": {
    "papermill": {
     "duration": 0.012439,
     "end_time": "2023-08-31T09:02:00.455087",
     "exception": false,
     "start_time": "2023-08-31T09:02:00.442648",
     "status": "completed"
    },
    "tags": []
   },
   "source": [
    "#### In this short notebook we will predict SPX500 dividends one month into the future using previous yields as features. The notebook consists of the following steps:\n",
    "#### 1. Retrieving the data\n",
    "#### 2. Data pre-processing\n",
    "#### 3. Data modelling\n",
    "#### 4. Predicting\n",
    "#### 5. Assessing our model"
   ]
  },
  {
   "cell_type": "markdown",
   "id": "2778b727",
   "metadata": {
    "papermill": {
     "duration": 0.012744,
     "end_time": "2023-08-31T09:02:00.482213",
     "exception": false,
     "start_time": "2023-08-31T09:02:00.469469",
     "status": "completed"
    },
    "tags": []
   },
   "source": [
    "### ^These are the key steps for almost all Machine Learning modelling, including the creation of ChatGPT!"
   ]
  },
  {
   "cell_type": "markdown",
   "id": "546130ed",
   "metadata": {
    "papermill": {
     "duration": 0.013027,
     "end_time": "2023-08-31T09:02:00.508450",
     "exception": false,
     "start_time": "2023-08-31T09:02:00.495423",
     "status": "completed"
    },
    "tags": []
   },
   "source": [
    "## 1. Retrieving the Data"
   ]
  },
  {
   "cell_type": "markdown",
   "id": "7fd40c10",
   "metadata": {
    "papermill": {
     "duration": 0.01252,
     "end_time": "2023-08-31T09:02:00.534407",
     "exception": false,
     "start_time": "2023-08-31T09:02:00.521887",
     "status": "completed"
    },
    "tags": []
   },
   "source": [
    "The following cells reads in an excel file containing SPX dividend yields (monthly):"
   ]
  },
  {
   "cell_type": "code",
   "execution_count": 2,
   "id": "550d121d",
   "metadata": {
    "execution": {
     "iopub.execute_input": "2023-08-31T09:02:00.562332Z",
     "iopub.status.busy": "2023-08-31T09:02:00.561312Z",
     "iopub.status.idle": "2023-08-31T09:02:01.209984Z",
     "shell.execute_reply": "2023-08-31T09:02:01.208833Z"
    },
    "papermill": {
     "duration": 0.665809,
     "end_time": "2023-08-31T09:02:01.213112",
     "exception": false,
     "start_time": "2023-08-31T09:02:00.547303",
     "status": "completed"
    },
    "tags": []
   },
   "outputs": [
    {
     "data": {
      "text/html": [
       "<div>\n",
       "<style scoped>\n",
       "    .dataframe tbody tr th:only-of-type {\n",
       "        vertical-align: middle;\n",
       "    }\n",
       "\n",
       "    .dataframe tbody tr th {\n",
       "        vertical-align: top;\n",
       "    }\n",
       "\n",
       "    .dataframe thead th {\n",
       "        text-align: right;\n",
       "    }\n",
       "</style>\n",
       "<table border=\"1\" class=\"dataframe\">\n",
       "  <thead>\n",
       "    <tr style=\"text-align: right;\">\n",
       "      <th></th>\n",
       "      <th>div yield</th>\n",
       "    </tr>\n",
       "    <tr>\n",
       "      <th>date</th>\n",
       "      <th></th>\n",
       "    </tr>\n",
       "  </thead>\n",
       "  <tbody>\n",
       "    <tr>\n",
       "      <th>1990-01-31</th>\n",
       "      <td>3.51</td>\n",
       "    </tr>\n",
       "    <tr>\n",
       "      <th>1990-02-28</th>\n",
       "      <td>3.56</td>\n",
       "    </tr>\n",
       "    <tr>\n",
       "      <th>1990-03-30</th>\n",
       "      <td>3.49</td>\n",
       "    </tr>\n",
       "    <tr>\n",
       "      <th>1990-04-30</th>\n",
       "      <td>3.61</td>\n",
       "    </tr>\n",
       "    <tr>\n",
       "      <th>1990-05-31</th>\n",
       "      <td>3.29</td>\n",
       "    </tr>\n",
       "  </tbody>\n",
       "</table>\n",
       "</div>"
      ],
      "text/plain": [
       "            div yield\n",
       "date                 \n",
       "1990-01-31       3.51\n",
       "1990-02-28       3.56\n",
       "1990-03-30       3.49\n",
       "1990-04-30       3.61\n",
       "1990-05-31       3.29"
      ]
     },
     "execution_count": 2,
     "metadata": {},
     "output_type": "execute_result"
    }
   ],
   "source": [
    "data = pd.read_excel('spx div yields.xlsx', usecols = ['date', 'div yield'], sheet_name='monthly')\n",
    "data = data.set_index('date')\n",
    "data.index = pd.to_datetime(data.index, format='%d/%m/%Y')\n",
    "data.head()"
   ]
  },
  {
   "cell_type": "markdown",
   "id": "08361a94",
   "metadata": {
    "papermill": {
     "duration": 0.012794,
     "end_time": "2023-08-31T09:02:01.239556",
     "exception": false,
     "start_time": "2023-08-31T09:02:01.226762",
     "status": "completed"
    },
    "tags": []
   },
   "source": [
    "Plotting our data to see what it looks like:"
   ]
  },
  {
   "cell_type": "code",
   "execution_count": 3,
   "id": "c1da4772",
   "metadata": {
    "execution": {
     "iopub.execute_input": "2023-08-31T09:02:01.268489Z",
     "iopub.status.busy": "2023-08-31T09:02:01.267858Z",
     "iopub.status.idle": "2023-08-31T09:02:01.761866Z",
     "shell.execute_reply": "2023-08-31T09:02:01.760529Z"
    },
    "papermill": {
     "duration": 0.511756,
     "end_time": "2023-08-31T09:02:01.764645",
     "exception": false,
     "start_time": "2023-08-31T09:02:01.252889",
     "status": "completed"
    },
    "tags": []
   },
   "outputs": [
    {
     "data": {
      "image/png": "[encoded data removed]",
      "text/plain": [
       "<Figure size 1000x600 with 1 Axes>"
      ]
     },
     "metadata": {},
     "output_type": "display_data"
    }
   ],
   "source": [
    "import matplotlib.pyplot as plt\n",
    "\n",
    "plt.figure(figsize=(10, 6))\n",
    "plt.plot(data.index, data['div yield'], label='Actual Values', color='blue')\n",
    "\n",
    "plt.xlabel('Date')\n",
    "plt.ylabel('Div Yield')\n",
    "plt.title('SPX500 Dividend Yields (Monthly)')\n",
    "plt.legend()\n",
    "\n",
    "plt.show()"
   ]
  },
  {
   "cell_type": "markdown",
   "id": "251e3e74",
   "metadata": {
    "papermill": {
     "duration": 0.013634,
     "end_time": "2023-08-31T09:02:01.792685",
     "exception": false,
     "start_time": "2023-08-31T09:02:01.779051",
     "status": "completed"
    },
    "tags": []
   },
   "source": [
    "## 2. Data pre-processing"
   ]
  },
  {
   "cell_type": "markdown",
   "id": "0ef90fba",
   "metadata": {
    "papermill": {
     "duration": 0.014103,
     "end_time": "2023-08-31T09:02:01.820723",
     "exception": false,
     "start_time": "2023-08-31T09:02:01.806620",
     "status": "completed"
    },
    "tags": []
   },
   "source": [
    "### Statistical Test for Stationarity (mean and standard deviation constant over the whole period)."
   ]
  },
  {
   "cell_type": "markdown",
   "id": "c11c3a8c",
   "metadata": {
    "papermill": {
     "duration": 0.013575,
     "end_time": "2023-08-31T09:02:01.848411",
     "exception": false,
     "start_time": "2023-08-31T09:02:01.834836",
     "status": "completed"
    },
    "tags": []
   },
   "source": [
    "When dealing with time series data (almost always the case in asset management) it is usually best for your data to be stationary (mean and std are constant over time) - this makes sure your model captures the key underlying relationships between our features and targets instead of seasonal trends/other noise."
   ]
  },
  {
   "cell_type": "code",
   "execution_count": 4,
   "id": "1c8a704d",
   "metadata": {
    "execution": {
     "iopub.execute_input": "2023-08-31T09:02:01.878024Z",
     "iopub.status.busy": "2023-08-31T09:02:01.877592Z",
     "iopub.status.idle": "2023-08-31T09:02:03.192030Z",
     "shell.execute_reply": "2023-08-31T09:02:03.190790Z"
    },
    "papermill": {
     "duration": 1.332468,
     "end_time": "2023-08-31T09:02:03.194882",
     "exception": false,
     "start_time": "2023-08-31T09:02:01.862414",
     "status": "completed"
    },
    "tags": []
   },
   "outputs": [
    {
     "name": "stderr",
     "output_type": "stream",
     "text": [
      "/opt/conda/lib/python3.10/site-packages/scipy/__init__.py:146: UserWarning: A NumPy version >=1.16.5 and <1.23.0 is required for this version of SciPy (detected version 1.23.5\n",
      "  warnings.warn(f\"A NumPy version >={np_minversion} and <{np_maxversion}\"\n"
     ]
    }
   ],
   "source": [
    "from statsmodels.tsa.stattools import adfuller\n",
    "\n",
    "def stat_test(data):\n",
    "    result = adfuller(data)\n",
    "    \n",
    "    print(f'p-value: {result[1]}')\n",
    "\n",
    "    if result[1] <= 0.05:\n",
    "        print(\"The data is likely stationary.\")\n",
    "    else:\n",
    "        print(\"The data is likely non-stationary.\")\n",
    "        "
   ]
  },
  {
   "cell_type": "markdown",
   "id": "4dc069f1",
   "metadata": {
    "papermill": {
     "duration": 0.014079,
     "end_time": "2023-08-31T09:02:03.223516",
     "exception": false,
     "start_time": "2023-08-31T09:02:03.209437",
     "status": "completed"
    },
    "tags": []
   },
   "source": [
    "### Dividend yields are not stationary"
   ]
  },
  {
   "cell_type": "code",
   "execution_count": 5,
   "id": "ad890962",
   "metadata": {
    "execution": {
     "iopub.execute_input": "2023-08-31T09:02:03.254469Z",
     "iopub.status.busy": "2023-08-31T09:02:03.254061Z",
     "iopub.status.idle": "2023-08-31T09:02:03.287975Z",
     "shell.execute_reply": "2023-08-31T09:02:03.286788Z"
    },
    "papermill": {
     "duration": 0.052596,
     "end_time": "2023-08-31T09:02:03.290747",
     "exception": false,
     "start_time": "2023-08-31T09:02:03.238151",
     "status": "completed"
    },
    "tags": []
   },
   "outputs": [
    {
     "name": "stdout",
     "output_type": "stream",
     "text": [
      "p-value: 0.10386144179279505\n",
      "The data is likely non-stationary.\n"
     ]
    }
   ],
   "source": [
    "stat_test(data['div yield'])"
   ]
  },
  {
   "cell_type": "markdown",
   "id": "4cd7204b",
   "metadata": {
    "papermill": {
     "duration": 0.014022,
     "end_time": "2023-08-31T09:02:03.319175",
     "exception": false,
     "start_time": "2023-08-31T09:02:03.305153",
     "status": "completed"
    },
    "tags": []
   },
   "source": [
    "### Subtract the current dividend yield from the previous one to make data stationary"
   ]
  },
  {
   "cell_type": "code",
   "execution_count": 6,
   "id": "32bbd4d7",
   "metadata": {
    "execution": {
     "iopub.execute_input": "2023-08-31T09:02:03.349560Z",
     "iopub.status.busy": "2023-08-31T09:02:03.349164Z",
     "iopub.status.idle": "2023-08-31T09:02:03.369428Z",
     "shell.execute_reply": "2023-08-31T09:02:03.368215Z"
    },
    "papermill": {
     "duration": 0.038202,
     "end_time": "2023-08-31T09:02:03.371841",
     "exception": false,
     "start_time": "2023-08-31T09:02:03.333639",
     "status": "completed"
    },
    "tags": []
   },
   "outputs": [
    {
     "data": {
      "text/html": [
       "<div>\n",
       "<style scoped>\n",
       "    .dataframe tbody tr th:only-of-type {\n",
       "        vertical-align: middle;\n",
       "    }\n",
       "\n",
       "    .dataframe tbody tr th {\n",
       "        vertical-align: top;\n",
       "    }\n",
       "\n",
       "    .dataframe thead th {\n",
       "        text-align: right;\n",
       "    }\n",
       "</style>\n",
       "<table border=\"1\" class=\"dataframe\">\n",
       "  <thead>\n",
       "    <tr style=\"text-align: right;\">\n",
       "      <th></th>\n",
       "      <th>div yield</th>\n",
       "      <th>diff_yield</th>\n",
       "    </tr>\n",
       "    <tr>\n",
       "      <th>date</th>\n",
       "      <th></th>\n",
       "      <th></th>\n",
       "    </tr>\n",
       "  </thead>\n",
       "  <tbody>\n",
       "    <tr>\n",
       "      <th>1990-01-31</th>\n",
       "      <td>3.51</td>\n",
       "      <td>NaN</td>\n",
       "    </tr>\n",
       "    <tr>\n",
       "      <th>1990-02-28</th>\n",
       "      <td>3.56</td>\n",
       "      <td>0.05</td>\n",
       "    </tr>\n",
       "    <tr>\n",
       "      <th>1990-03-30</th>\n",
       "      <td>3.49</td>\n",
       "      <td>-0.07</td>\n",
       "    </tr>\n",
       "    <tr>\n",
       "      <th>1990-04-30</th>\n",
       "      <td>3.61</td>\n",
       "      <td>0.12</td>\n",
       "    </tr>\n",
       "    <tr>\n",
       "      <th>1990-05-31</th>\n",
       "      <td>3.29</td>\n",
       "      <td>-0.32</td>\n",
       "    </tr>\n",
       "    <tr>\n",
       "      <th>...</th>\n",
       "      <td>...</td>\n",
       "      <td>...</td>\n",
       "    </tr>\n",
       "    <tr>\n",
       "      <th>2023-03-31</th>\n",
       "      <td>1.68</td>\n",
       "      <td>-0.04</td>\n",
       "    </tr>\n",
       "    <tr>\n",
       "      <th>2023-04-28</th>\n",
       "      <td>1.66</td>\n",
       "      <td>-0.02</td>\n",
       "    </tr>\n",
       "    <tr>\n",
       "      <th>2023-05-31</th>\n",
       "      <td>1.66</td>\n",
       "      <td>0.00</td>\n",
       "    </tr>\n",
       "    <tr>\n",
       "      <th>2023-06-30</th>\n",
       "      <td>1.55</td>\n",
       "      <td>-0.11</td>\n",
       "    </tr>\n",
       "    <tr>\n",
       "      <th>2023-07-31</th>\n",
       "      <td>1.51</td>\n",
       "      <td>-0.04</td>\n",
       "    </tr>\n",
       "  </tbody>\n",
       "</table>\n",
       "<p>403 rows × 2 columns</p>\n",
       "</div>"
      ],
      "text/plain": [
       "            div yield  diff_yield\n",
       "date                             \n",
       "1990-01-31       3.51         NaN\n",
       "1990-02-28       3.56        0.05\n",
       "1990-03-30       3.49       -0.07\n",
       "1990-04-30       3.61        0.12\n",
       "1990-05-31       3.29       -0.32\n",
       "...               ...         ...\n",
       "2023-03-31       1.68       -0.04\n",
       "2023-04-28       1.66       -0.02\n",
       "2023-05-31       1.66        0.00\n",
       "2023-06-30       1.55       -0.11\n",
       "2023-07-31       1.51       -0.04\n",
       "\n",
       "[403 rows x 2 columns]"
      ]
     },
     "execution_count": 6,
     "metadata": {},
     "output_type": "execute_result"
    }
   ],
   "source": [
    "data['diff_yield'] = data['div yield'].diff()\n",
    "data"
   ]
  },
  {
   "cell_type": "markdown",
   "id": "acf54035",
   "metadata": {
    "papermill": {
     "duration": 0.014486,
     "end_time": "2023-08-31T09:02:03.400950",
     "exception": false,
     "start_time": "2023-08-31T09:02:03.386464",
     "status": "completed"
    },
    "tags": []
   },
   "source": [
    "### The consecutive differences in dividend yields ARE stationary"
   ]
  },
  {
   "cell_type": "code",
   "execution_count": 7,
   "id": "2ebe9ab2",
   "metadata": {
    "execution": {
     "iopub.execute_input": "2023-08-31T09:02:03.432114Z",
     "iopub.status.busy": "2023-08-31T09:02:03.431649Z",
     "iopub.status.idle": "2023-08-31T09:02:03.451610Z",
     "shell.execute_reply": "2023-08-31T09:02:03.450521Z"
    },
    "papermill": {
     "duration": 0.038702,
     "end_time": "2023-08-31T09:02:03.454340",
     "exception": false,
     "start_time": "2023-08-31T09:02:03.415638",
     "status": "completed"
    },
    "tags": []
   },
   "outputs": [
    {
     "name": "stdout",
     "output_type": "stream",
     "text": [
      "p-value: 2.7840298199457535e-13\n",
      "The data is likely stationary.\n"
     ]
    }
   ],
   "source": [
    "stat_test(data['diff_yield'][1:])"
   ]
  },
  {
   "cell_type": "markdown",
   "id": "1d69e775",
   "metadata": {
    "papermill": {
     "duration": 0.014469,
     "end_time": "2023-08-31T09:02:03.483774",
     "exception": false,
     "start_time": "2023-08-31T09:02:03.469305",
     "status": "completed"
    },
    "tags": []
   },
   "source": [
    "### Creating Features - Performing Lags"
   ]
  },
  {
   "cell_type": "markdown",
   "id": "28913f94",
   "metadata": {
    "papermill": {
     "duration": 0.014392,
     "end_time": "2023-08-31T09:02:03.512922",
     "exception": false,
     "start_time": "2023-08-31T09:02:03.498530",
     "status": "completed"
    },
    "tags": []
   },
   "source": [
    "Here we are adding the previous 100 month DIFFERENCES in dividend yields to predict the current month's dividend yield. These previous 100 differences in dividend yields are called 'features' - our model will try to learn relationships between these and the current month's dividend yield."
   ]
  },
  {
   "cell_type": "code",
   "execution_count": 8,
   "id": "5b99cdee",
   "metadata": {
    "execution": {
     "iopub.execute_input": "2023-08-31T09:02:03.545524Z",
     "iopub.status.busy": "2023-08-31T09:02:03.544528Z",
     "iopub.status.idle": "2023-08-31T09:02:03.613166Z",
     "shell.execute_reply": "2023-08-31T09:02:03.611989Z"
    },
    "papermill": {
     "duration": 0.087478,
     "end_time": "2023-08-31T09:02:03.616009",
     "exception": false,
     "start_time": "2023-08-31T09:02:03.528531",
     "status": "completed"
    },
    "tags": []
   },
   "outputs": [],
   "source": [
    "lag_window = 100\n",
    "rows = []\n",
    "#take the previous 101 dividend yields and find consecutive difference between each\n",
    "for i in range(lag_window, data.shape[0]):\n",
    "    lagged_yield_differences = data.iloc[i - lag_window:i]['diff_yield'].values\n",
    "    rows.append(lagged_yield_differences)\n",
    "\n",
    "X_df = pd.DataFrame(rows, columns=[f'{i} months back' for i in range(lag_window, 0, -1)])\n",
    "X_df = X_df.set_index(data[lag_window:].index)\n",
    "\n",
    "\n",
    "X_df['div yield'] = data.iloc[lag_window:]['div yield'].values\n",
    "X_df.dropna(inplace=True)"
   ]
  },
  {
   "cell_type": "markdown",
   "id": "c81b0b28",
   "metadata": {
    "papermill": {
     "duration": 0.014334,
     "end_time": "2023-08-31T09:02:03.645231",
     "exception": false,
     "start_time": "2023-08-31T09:02:03.630897",
     "status": "completed"
    },
    "tags": []
   },
   "source": [
    "Taking a look at our data now:"
   ]
  },
  {
   "cell_type": "code",
   "execution_count": 9,
   "id": "1b9472ff",
   "metadata": {
    "execution": {
     "iopub.execute_input": "2023-08-31T09:02:03.676569Z",
     "iopub.status.busy": "2023-08-31T09:02:03.676167Z",
     "iopub.status.idle": "2023-08-31T09:02:03.720267Z",
     "shell.execute_reply": "2023-08-31T09:02:03.719106Z"
    },
    "papermill": {
     "duration": 0.062702,
     "end_time": "2023-08-31T09:02:03.722947",
     "exception": false,
     "start_time": "2023-08-31T09:02:03.660245",
     "status": "completed"
    },
    "tags": []
   },
   "outputs": [
    {
     "data": {
      "text/html": [
       "<div>\n",
       "<style scoped>\n",
       "    .dataframe tbody tr th:only-of-type {\n",
       "        vertical-align: middle;\n",
       "    }\n",
       "\n",
       "    .dataframe tbody tr th {\n",
       "        vertical-align: top;\n",
       "    }\n",
       "\n",
       "    .dataframe thead th {\n",
       "        text-align: right;\n",
       "    }\n",
       "</style>\n",
       "<table border=\"1\" class=\"dataframe\">\n",
       "  <thead>\n",
       "    <tr style=\"text-align: right;\">\n",
       "      <th></th>\n",
       "      <th>100 months back</th>\n",
       "      <th>99 months back</th>\n",
       "      <th>98 months back</th>\n",
       "      <th>97 months back</th>\n",
       "      <th>96 months back</th>\n",
       "      <th>95 months back</th>\n",
       "      <th>94 months back</th>\n",
       "      <th>93 months back</th>\n",
       "      <th>92 months back</th>\n",
       "      <th>91 months back</th>\n",
       "      <th>...</th>\n",
       "      <th>9 months back</th>\n",
       "      <th>8 months back</th>\n",
       "      <th>7 months back</th>\n",
       "      <th>6 months back</th>\n",
       "      <th>5 months back</th>\n",
       "      <th>4 months back</th>\n",
       "      <th>3 months back</th>\n",
       "      <th>2 months back</th>\n",
       "      <th>1 months back</th>\n",
       "      <th>div yield</th>\n",
       "    </tr>\n",
       "    <tr>\n",
       "      <th>date</th>\n",
       "      <th></th>\n",
       "      <th></th>\n",
       "      <th></th>\n",
       "      <th></th>\n",
       "      <th></th>\n",
       "      <th></th>\n",
       "      <th></th>\n",
       "      <th></th>\n",
       "      <th></th>\n",
       "      <th></th>\n",
       "      <th></th>\n",
       "      <th></th>\n",
       "      <th></th>\n",
       "      <th></th>\n",
       "      <th></th>\n",
       "      <th></th>\n",
       "      <th></th>\n",
       "      <th></th>\n",
       "      <th></th>\n",
       "      <th></th>\n",
       "      <th></th>\n",
       "    </tr>\n",
       "  </thead>\n",
       "  <tbody>\n",
       "    <tr>\n",
       "      <th>1998-06-30</th>\n",
       "      <td>0.05</td>\n",
       "      <td>-0.07</td>\n",
       "      <td>0.12</td>\n",
       "      <td>-0.32</td>\n",
       "      <td>0.04</td>\n",
       "      <td>0.03</td>\n",
       "      <td>0.33</td>\n",
       "      <td>0.20</td>\n",
       "      <td>0.02</td>\n",
       "      <td>-0.19</td>\n",
       "      <td>...</td>\n",
       "      <td>-0.08</td>\n",
       "      <td>0.07</td>\n",
       "      <td>-0.06</td>\n",
       "      <td>-0.02</td>\n",
       "      <td>-0.01</td>\n",
       "      <td>-0.10</td>\n",
       "      <td>-0.06</td>\n",
       "      <td>-0.01</td>\n",
       "      <td>0.03</td>\n",
       "      <td>1.38</td>\n",
       "    </tr>\n",
       "    <tr>\n",
       "      <th>1998-07-31</th>\n",
       "      <td>-0.07</td>\n",
       "      <td>0.12</td>\n",
       "      <td>-0.32</td>\n",
       "      <td>0.04</td>\n",
       "      <td>0.03</td>\n",
       "      <td>0.33</td>\n",
       "      <td>0.20</td>\n",
       "      <td>0.02</td>\n",
       "      <td>-0.19</td>\n",
       "      <td>-0.07</td>\n",
       "      <td>...</td>\n",
       "      <td>0.07</td>\n",
       "      <td>-0.06</td>\n",
       "      <td>-0.02</td>\n",
       "      <td>-0.01</td>\n",
       "      <td>-0.10</td>\n",
       "      <td>-0.06</td>\n",
       "      <td>-0.01</td>\n",
       "      <td>0.03</td>\n",
       "      <td>-0.05</td>\n",
       "      <td>1.40</td>\n",
       "    </tr>\n",
       "    <tr>\n",
       "      <th>1998-08-31</th>\n",
       "      <td>0.12</td>\n",
       "      <td>-0.32</td>\n",
       "      <td>0.04</td>\n",
       "      <td>0.03</td>\n",
       "      <td>0.33</td>\n",
       "      <td>0.20</td>\n",
       "      <td>0.02</td>\n",
       "      <td>-0.19</td>\n",
       "      <td>-0.07</td>\n",
       "      <td>-0.15</td>\n",
       "      <td>...</td>\n",
       "      <td>-0.06</td>\n",
       "      <td>-0.02</td>\n",
       "      <td>-0.01</td>\n",
       "      <td>-0.10</td>\n",
       "      <td>-0.06</td>\n",
       "      <td>-0.01</td>\n",
       "      <td>0.03</td>\n",
       "      <td>-0.05</td>\n",
       "      <td>0.02</td>\n",
       "      <td>1.64</td>\n",
       "    </tr>\n",
       "    <tr>\n",
       "      <th>1998-09-30</th>\n",
       "      <td>-0.32</td>\n",
       "      <td>0.04</td>\n",
       "      <td>0.03</td>\n",
       "      <td>0.33</td>\n",
       "      <td>0.20</td>\n",
       "      <td>0.02</td>\n",
       "      <td>-0.19</td>\n",
       "      <td>-0.07</td>\n",
       "      <td>-0.15</td>\n",
       "      <td>-0.24</td>\n",
       "      <td>...</td>\n",
       "      <td>-0.02</td>\n",
       "      <td>-0.01</td>\n",
       "      <td>-0.10</td>\n",
       "      <td>-0.06</td>\n",
       "      <td>-0.01</td>\n",
       "      <td>0.03</td>\n",
       "      <td>-0.05</td>\n",
       "      <td>0.02</td>\n",
       "      <td>0.24</td>\n",
       "      <td>1.57</td>\n",
       "    </tr>\n",
       "    <tr>\n",
       "      <th>1998-10-30</th>\n",
       "      <td>0.04</td>\n",
       "      <td>0.03</td>\n",
       "      <td>0.33</td>\n",
       "      <td>0.20</td>\n",
       "      <td>0.02</td>\n",
       "      <td>-0.19</td>\n",
       "      <td>-0.07</td>\n",
       "      <td>-0.15</td>\n",
       "      <td>-0.24</td>\n",
       "      <td>-0.07</td>\n",
       "      <td>...</td>\n",
       "      <td>-0.01</td>\n",
       "      <td>-0.10</td>\n",
       "      <td>-0.06</td>\n",
       "      <td>-0.01</td>\n",
       "      <td>0.03</td>\n",
       "      <td>-0.05</td>\n",
       "      <td>0.02</td>\n",
       "      <td>0.24</td>\n",
       "      <td>-0.07</td>\n",
       "      <td>1.45</td>\n",
       "    </tr>\n",
       "    <tr>\n",
       "      <th>...</th>\n",
       "      <td>...</td>\n",
       "      <td>...</td>\n",
       "      <td>...</td>\n",
       "      <td>...</td>\n",
       "      <td>...</td>\n",
       "      <td>...</td>\n",
       "      <td>...</td>\n",
       "      <td>...</td>\n",
       "      <td>...</td>\n",
       "      <td>...</td>\n",
       "      <td>...</td>\n",
       "      <td>...</td>\n",
       "      <td>...</td>\n",
       "      <td>...</td>\n",
       "      <td>...</td>\n",
       "      <td>...</td>\n",
       "      <td>...</td>\n",
       "      <td>...</td>\n",
       "      <td>...</td>\n",
       "      <td>...</td>\n",
       "      <td>...</td>\n",
       "    </tr>\n",
       "    <tr>\n",
       "      <th>2023-03-31</th>\n",
       "      <td>0.00</td>\n",
       "      <td>0.03</td>\n",
       "      <td>0.07</td>\n",
       "      <td>-0.07</td>\n",
       "      <td>0.05</td>\n",
       "      <td>-0.01</td>\n",
       "      <td>0.00</td>\n",
       "      <td>0.06</td>\n",
       "      <td>-0.03</td>\n",
       "      <td>0.16</td>\n",
       "      <td>...</td>\n",
       "      <td>0.17</td>\n",
       "      <td>-0.14</td>\n",
       "      <td>0.09</td>\n",
       "      <td>0.20</td>\n",
       "      <td>-0.14</td>\n",
       "      <td>-0.07</td>\n",
       "      <td>0.12</td>\n",
       "      <td>-0.10</td>\n",
       "      <td>0.06</td>\n",
       "      <td>1.68</td>\n",
       "    </tr>\n",
       "    <tr>\n",
       "      <th>2023-04-28</th>\n",
       "      <td>0.03</td>\n",
       "      <td>0.07</td>\n",
       "      <td>-0.07</td>\n",
       "      <td>0.05</td>\n",
       "      <td>-0.01</td>\n",
       "      <td>0.00</td>\n",
       "      <td>0.06</td>\n",
       "      <td>-0.03</td>\n",
       "      <td>0.16</td>\n",
       "      <td>0.07</td>\n",
       "      <td>...</td>\n",
       "      <td>-0.14</td>\n",
       "      <td>0.09</td>\n",
       "      <td>0.20</td>\n",
       "      <td>-0.14</td>\n",
       "      <td>-0.07</td>\n",
       "      <td>0.12</td>\n",
       "      <td>-0.10</td>\n",
       "      <td>0.06</td>\n",
       "      <td>-0.04</td>\n",
       "      <td>1.66</td>\n",
       "    </tr>\n",
       "    <tr>\n",
       "      <th>2023-05-31</th>\n",
       "      <td>0.07</td>\n",
       "      <td>-0.07</td>\n",
       "      <td>0.05</td>\n",
       "      <td>-0.01</td>\n",
       "      <td>0.00</td>\n",
       "      <td>0.06</td>\n",
       "      <td>-0.03</td>\n",
       "      <td>0.16</td>\n",
       "      <td>0.07</td>\n",
       "      <td>-0.16</td>\n",
       "      <td>...</td>\n",
       "      <td>0.09</td>\n",
       "      <td>0.20</td>\n",
       "      <td>-0.14</td>\n",
       "      <td>-0.07</td>\n",
       "      <td>0.12</td>\n",
       "      <td>-0.10</td>\n",
       "      <td>0.06</td>\n",
       "      <td>-0.04</td>\n",
       "      <td>-0.02</td>\n",
       "      <td>1.66</td>\n",
       "    </tr>\n",
       "    <tr>\n",
       "      <th>2023-06-30</th>\n",
       "      <td>-0.07</td>\n",
       "      <td>0.05</td>\n",
       "      <td>-0.01</td>\n",
       "      <td>0.00</td>\n",
       "      <td>0.06</td>\n",
       "      <td>-0.03</td>\n",
       "      <td>0.16</td>\n",
       "      <td>0.07</td>\n",
       "      <td>-0.16</td>\n",
       "      <td>0.01</td>\n",
       "      <td>...</td>\n",
       "      <td>0.20</td>\n",
       "      <td>-0.14</td>\n",
       "      <td>-0.07</td>\n",
       "      <td>0.12</td>\n",
       "      <td>-0.10</td>\n",
       "      <td>0.06</td>\n",
       "      <td>-0.04</td>\n",
       "      <td>-0.02</td>\n",
       "      <td>0.00</td>\n",
       "      <td>1.55</td>\n",
       "    </tr>\n",
       "    <tr>\n",
       "      <th>2023-07-31</th>\n",
       "      <td>0.05</td>\n",
       "      <td>-0.01</td>\n",
       "      <td>0.00</td>\n",
       "      <td>0.06</td>\n",
       "      <td>-0.03</td>\n",
       "      <td>0.16</td>\n",
       "      <td>0.07</td>\n",
       "      <td>-0.16</td>\n",
       "      <td>0.01</td>\n",
       "      <td>0.05</td>\n",
       "      <td>...</td>\n",
       "      <td>-0.14</td>\n",
       "      <td>-0.07</td>\n",
       "      <td>0.12</td>\n",
       "      <td>-0.10</td>\n",
       "      <td>0.06</td>\n",
       "      <td>-0.04</td>\n",
       "      <td>-0.02</td>\n",
       "      <td>0.00</td>\n",
       "      <td>-0.11</td>\n",
       "      <td>1.51</td>\n",
       "    </tr>\n",
       "  </tbody>\n",
       "</table>\n",
       "<p>302 rows × 101 columns</p>\n",
       "</div>"
      ],
      "text/plain": [
       "            100 months back  99 months back  98 months back  97 months back  \\\n",
       "date                                                                          \n",
       "1998-06-30             0.05           -0.07            0.12           -0.32   \n",
       "1998-07-31            -0.07            0.12           -0.32            0.04   \n",
       "1998-08-31             0.12           -0.32            0.04            0.03   \n",
       "1998-09-30            -0.32            0.04            0.03            0.33   \n",
       "1998-10-30             0.04            0.03            0.33            0.20   \n",
       "...                     ...             ...             ...             ...   \n",
       "2023-03-31             0.00            0.03            0.07           -0.07   \n",
       "2023-04-28             0.03            0.07           -0.07            0.05   \n",
       "2023-05-31             0.07           -0.07            0.05           -0.01   \n",
       "2023-06-30            -0.07            0.05           -0.01            0.00   \n",
       "2023-07-31             0.05           -0.01            0.00            0.06   \n",
       "\n",
       "            96 months back  95 months back  94 months back  93 months back  \\\n",
       "date                                                                         \n",
       "1998-06-30            0.04            0.03            0.33            0.20   \n",
       "1998-07-31            0.03            0.33            0.20            0.02   \n",
       "1998-08-31            0.33            0.20            0.02           -0.19   \n",
       "1998-09-30            0.20            0.02           -0.19           -0.07   \n",
       "1998-10-30            0.02           -0.19           -0.07           -0.15   \n",
       "...                    ...             ...             ...             ...   \n",
       "2023-03-31            0.05           -0.01            0.00            0.06   \n",
       "2023-04-28           -0.01            0.00            0.06           -0.03   \n",
       "2023-05-31            0.00            0.06           -0.03            0.16   \n",
       "2023-06-30            0.06           -0.03            0.16            0.07   \n",
       "2023-07-31           -0.03            0.16            0.07           -0.16   \n",
       "\n",
       "            92 months back  91 months back  ...  9 months back  8 months back  \\\n",
       "date                                        ...                                 \n",
       "1998-06-30            0.02           -0.19  ...          -0.08           0.07   \n",
       "1998-07-31           -0.19           -0.07  ...           0.07          -0.06   \n",
       "1998-08-31           -0.07           -0.15  ...          -0.06          -0.02   \n",
       "1998-09-30           -0.15           -0.24  ...          -0.02          -0.01   \n",
       "1998-10-30           -0.24           -0.07  ...          -0.01          -0.10   \n",
       "...                    ...             ...  ...            ...            ...   \n",
       "2023-03-31           -0.03            0.16  ...           0.17          -0.14   \n",
       "2023-04-28            0.16            0.07  ...          -0.14           0.09   \n",
       "2023-05-31            0.07           -0.16  ...           0.09           0.20   \n",
       "2023-06-30           -0.16            0.01  ...           0.20          -0.14   \n",
       "2023-07-31            0.01            0.05  ...          -0.14          -0.07   \n",
       "\n",
       "            7 months back  6 months back  5 months back  4 months back  \\\n",
       "date                                                                     \n",
       "1998-06-30          -0.06          -0.02          -0.01          -0.10   \n",
       "1998-07-31          -0.02          -0.01          -0.10          -0.06   \n",
       "1998-08-31          -0.01          -0.10          -0.06          -0.01   \n",
       "1998-09-30          -0.10          -0.06          -0.01           0.03   \n",
       "1998-10-30          -0.06          -0.01           0.03          -0.05   \n",
       "...                   ...            ...            ...            ...   \n",
       "2023-03-31           0.09           0.20          -0.14          -0.07   \n",
       "2023-04-28           0.20          -0.14          -0.07           0.12   \n",
       "2023-05-31          -0.14          -0.07           0.12          -0.10   \n",
       "2023-06-30          -0.07           0.12          -0.10           0.06   \n",
       "2023-07-31           0.12          -0.10           0.06          -0.04   \n",
       "\n",
       "            3 months back  2 months back  1 months back  div yield  \n",
       "date                                                                \n",
       "1998-06-30          -0.06          -0.01           0.03       1.38  \n",
       "1998-07-31          -0.01           0.03          -0.05       1.40  \n",
       "1998-08-31           0.03          -0.05           0.02       1.64  \n",
       "1998-09-30          -0.05           0.02           0.24       1.57  \n",
       "1998-10-30           0.02           0.24          -0.07       1.45  \n",
       "...                   ...            ...            ...        ...  \n",
       "2023-03-31           0.12          -0.10           0.06       1.68  \n",
       "2023-04-28          -0.10           0.06          -0.04       1.66  \n",
       "2023-05-31           0.06          -0.04          -0.02       1.66  \n",
       "2023-06-30          -0.04          -0.02           0.00       1.55  \n",
       "2023-07-31          -0.02           0.00          -0.11       1.51  \n",
       "\n",
       "[302 rows x 101 columns]"
      ]
     },
     "execution_count": 9,
     "metadata": {},
     "output_type": "execute_result"
    }
   ],
   "source": [
    "X_df"
   ]
  },
  {
   "cell_type": "markdown",
   "id": "0eac8308",
   "metadata": {
    "papermill": {
     "duration": 0.014896,
     "end_time": "2023-08-31T09:02:03.753175",
     "exception": false,
     "start_time": "2023-08-31T09:02:03.738279",
     "status": "completed"
    },
    "tags": []
   },
   "source": [
    "### Train/Test Split"
   ]
  },
  {
   "cell_type": "markdown",
   "id": "ec0d8ec0",
   "metadata": {
    "papermill": {
     "duration": 0.015158,
     "end_time": "2023-08-31T09:02:03.783503",
     "exception": false,
     "start_time": "2023-08-31T09:02:03.768345",
     "status": "completed"
    },
    "tags": []
   },
   "source": [
    "Here we split our dataset into training and testing sets. The training dataset is what we feed into the model so that it can learn the relationships between 100 month lags and dividend yields, and the test dataset is what we are going to test our model on. Our test dataset starts from 2020, so we will be predicting the dividend yields from 2020 onwards and then compare them to the actual results to see how strong our model is."
   ]
  },
  {
   "cell_type": "code",
   "execution_count": 10,
   "id": "61a3b469",
   "metadata": {
    "execution": {
     "iopub.execute_input": "2023-08-31T09:02:03.816590Z",
     "iopub.status.busy": "2023-08-31T09:02:03.816196Z",
     "iopub.status.idle": "2023-08-31T09:02:03.824514Z",
     "shell.execute_reply": "2023-08-31T09:02:03.823535Z"
    },
    "papermill": {
     "duration": 0.027965,
     "end_time": "2023-08-31T09:02:03.826808",
     "exception": false,
     "start_time": "2023-08-31T09:02:03.798843",
     "status": "completed"
    },
    "tags": []
   },
   "outputs": [],
   "source": [
    "split_date = '2020-01-01'\n",
    "\n",
    "train = X_df.loc[X_df.index  < split_date]\n",
    "test = X_df.loc[X_df.index >= split_date]"
   ]
  },
  {
   "cell_type": "code",
   "execution_count": 11,
   "id": "0ecf9eb8",
   "metadata": {
    "execution": {
     "iopub.execute_input": "2023-08-31T09:02:03.860641Z",
     "iopub.status.busy": "2023-08-31T09:02:03.859928Z",
     "iopub.status.idle": "2023-08-31T09:02:03.868816Z",
     "shell.execute_reply": "2023-08-31T09:02:03.867950Z"
    },
    "papermill": {
     "duration": 0.028499,
     "end_time": "2023-08-31T09:02:03.871306",
     "exception": false,
     "start_time": "2023-08-31T09:02:03.842807",
     "status": "completed"
    },
    "tags": []
   },
   "outputs": [],
   "source": [
    "X_train = train.drop(['div yield'], axis=1)\n",
    "X_test = test.drop(['div yield'], axis=1)\n",
    "\n",
    "y_train = train['div yield']\n",
    "y_test = test['div yield']"
   ]
  },
  {
   "cell_type": "markdown",
   "id": "bd21ad7c",
   "metadata": {
    "papermill": {
     "duration": 0.016933,
     "end_time": "2023-08-31T09:02:03.904193",
     "exception": false,
     "start_time": "2023-08-31T09:02:03.887260",
     "status": "completed"
    },
    "tags": []
   },
   "source": [
    "## 3. Modelling"
   ]
  },
  {
   "cell_type": "markdown",
   "id": "42389896",
   "metadata": {
    "papermill": {
     "duration": 0.015161,
     "end_time": "2023-08-31T09:02:03.935399",
     "exception": false,
     "start_time": "2023-08-31T09:02:03.920238",
     "status": "completed"
    },
    "tags": []
   },
   "source": [
    "Feeding our data into a linear regression model."
   ]
  },
  {
   "cell_type": "code",
   "execution_count": 12,
   "id": "d7241e3d",
   "metadata": {
    "execution": {
     "iopub.execute_input": "2023-08-31T09:02:03.969322Z",
     "iopub.status.busy": "2023-08-31T09:02:03.968595Z",
     "iopub.status.idle": "2023-08-31T09:02:04.425282Z",
     "shell.execute_reply": "2023-08-31T09:02:04.423631Z"
    },
    "papermill": {
     "duration": 0.478325,
     "end_time": "2023-08-31T09:02:04.429784",
     "exception": false,
     "start_time": "2023-08-31T09:02:03.951459",
     "status": "completed"
    },
    "tags": []
   },
   "outputs": [
    {
     "data": {
      "text/html": [
       "<style>#sk-container-id-1 {color: black;background-color: white;}#sk-container-id-1 pre{padding: 0;}#sk-container-id-1 div.sk-toggleable {background-color: white;}#sk-container-id-1 label.sk-toggleable__label {cursor: pointer;display: block;width: 100%;margin-bottom: 0;padding: 0.3em;box-sizing: border-box;text-align: center;}#sk-container-id-1 label.sk-toggleable__label-arrow:before {content: \"▸\";float: left;margin-right: 0.25em;color: #696969;}#sk-container-id-1 label.sk-toggleable__label-arrow:hover:before {color: black;}#sk-container-id-1 div.sk-estimator:hover label.sk-toggleable__label-arrow:before {color: black;}#sk-container-id-1 div.sk-toggleable__content {max-height: 0;max-width: 0;overflow: hidden;text-align: left;background-color: #f0f8ff;}#sk-container-id-1 div.sk-toggleable__content pre {margin: 0.2em;color: black;border-radius: 0.25em;background-color: #f0f8ff;}#sk-container-id-1 input.sk-toggleable__control:checked~div.sk-toggleable__content {max-height: 200px;max-width: 100%;overflow: auto;}#sk-container-id-1 input.sk-toggleable__control:checked~label.sk-toggleable__label-arrow:before {content: \"▾\";}#sk-container-id-1 div.sk-estimator input.sk-toggleable__control:checked~label.sk-toggleable__label {background-color: #d4ebff;}#sk-container-id-1 div.sk-label input.sk-toggleable__control:checked~label.sk-toggleable__label {background-color: #d4ebff;}#sk-container-id-1 input.sk-hidden--visually {border: 0;clip: rect(1px 1px 1px 1px);clip: rect(1px, 1px, 1px, 1px);height: 1px;margin: -1px;overflow: hidden;padding: 0;position: absolute;width: 1px;}#sk-container-id-1 div.sk-estimator {font-family: monospace;background-color: #f0f8ff;border: 1px dotted black;border-radius: 0.25em;box-sizing: border-box;margin-bottom: 0.5em;}#sk-container-id-1 div.sk-estimator:hover {background-color: #d4ebff;}#sk-container-id-1 div.sk-parallel-item::after {content: \"\";width: 100%;border-bottom: 1px solid gray;flex-grow: 1;}#sk-container-id-1 div.sk-label:hover label.sk-toggleable__label {background-color: #d4ebff;}#sk-container-id-1 div.sk-serial::before {content: \"\";position: absolute;border-left: 1px solid gray;box-sizing: border-box;top: 0;bottom: 0;left: 50%;z-index: 0;}#sk-container-id-1 div.sk-serial {display: flex;flex-direction: column;align-items: center;background-color: white;padding-right: 0.2em;padding-left: 0.2em;position: relative;}#sk-container-id-1 div.sk-item {position: relative;z-index: 1;}#sk-container-id-1 div.sk-parallel {display: flex;align-items: stretch;justify-content: center;background-color: white;position: relative;}#sk-container-id-1 div.sk-item::before, #sk-container-id-1 div.sk-parallel-item::before {content: \"\";position: absolute;border-left: 1px solid gray;box-sizing: border-box;top: 0;bottom: 0;left: 50%;z-index: -1;}#sk-container-id-1 div.sk-parallel-item {display: flex;flex-direction: column;z-index: 1;position: relative;background-color: white;}#sk-container-id-1 div.sk-parallel-item:first-child::after {align-self: flex-end;width: 50%;}#sk-container-id-1 div.sk-parallel-item:last-child::after {align-self: flex-start;width: 50%;}#sk-container-id-1 div.sk-parallel-item:only-child::after {width: 0;}#sk-container-id-1 div.sk-dashed-wrapped {border: 1px dashed gray;margin: 0 0.4em 0.5em 0.4em;box-sizing: border-box;padding-bottom: 0.4em;background-color: white;}#sk-container-id-1 div.sk-label label {font-family: monospace;font-weight: bold;display: inline-block;line-height: 1.2em;}#sk-container-id-1 div.sk-label-container {text-align: center;}#sk-container-id-1 div.sk-container {/* jupyter's `normalize.less` sets `[hidden] { display: none; }` but bootstrap.min.css set `[hidden] { display: none !important; }` so we also need the `!important` here to be able to override the default hidden behavior on the sphinx rendered scikit-learn.org. See: https://github.com/scikit-learn/scikit-learn/issues/21755 */display: inline-block !important;position: relative;}#sk-container-id-1 div.sk-text-repr-fallback {display: none;}</style><div id=\"sk-container-id-1\" class=\"sk-top-container\"><div class=\"sk-text-repr-fallback\"><pre>LinearRegression()</pre><b>In a Jupyter environment, please rerun this cell to show the HTML representation or trust the notebook. <br />On GitHub, the HTML representation is unable to render, please try loading this page with nbviewer.org.</b></div><div class=\"sk-container\" hidden><div class=\"sk-item\"><div class=\"sk-estimator sk-toggleable\"><input class=\"sk-toggleable__control sk-hidden--visually\" id=\"sk-estimator-id-1\" type=\"checkbox\" checked><label for=\"sk-estimator-id-1\" class=\"sk-toggleable__label sk-toggleable__label-arrow\">LinearRegression</label><div class=\"sk-toggleable__content\"><pre>LinearRegression()</pre></div></div></div></div></div>"
      ],
      "text/plain": [
       "LinearRegression()"
      ]
     },
     "execution_count": 12,
     "metadata": {},
     "output_type": "execute_result"
    }
   ],
   "source": [
    "from sklearn.linear_model import LinearRegression\n",
    "from sklearn.metrics import mean_squared_error\n",
    "\n",
    "model = LinearRegression()\n",
    "model.fit(X_train, y_train)"
   ]
  },
  {
   "cell_type": "markdown",
   "id": "df15443d",
   "metadata": {
    "papermill": {
     "duration": 0.032254,
     "end_time": "2023-08-31T09:02:04.495338",
     "exception": false,
     "start_time": "2023-08-31T09:02:04.463084",
     "status": "completed"
    },
    "tags": []
   },
   "source": [
    "## 4. Predicting"
   ]
  },
  {
   "cell_type": "markdown",
   "id": "ca84bd02",
   "metadata": {
    "papermill": {
     "duration": 0.015274,
     "end_time": "2023-08-31T09:02:04.539099",
     "exception": false,
     "start_time": "2023-08-31T09:02:04.523825",
     "status": "completed"
    },
    "tags": []
   },
   "source": [
    "Making predictions on our test dataset."
   ]
  },
  {
   "cell_type": "code",
   "execution_count": 13,
   "id": "7abb1024",
   "metadata": {
    "execution": {
     "iopub.execute_input": "2023-08-31T09:02:04.573324Z",
     "iopub.status.busy": "2023-08-31T09:02:04.572918Z",
     "iopub.status.idle": "2023-08-31T09:02:04.581191Z",
     "shell.execute_reply": "2023-08-31T09:02:04.580038Z"
    },
    "papermill": {
     "duration": 0.028358,
     "end_time": "2023-08-31T09:02:04.583551",
     "exception": false,
     "start_time": "2023-08-31T09:02:04.555193",
     "status": "completed"
    },
    "tags": []
   },
   "outputs": [],
   "source": [
    "preds = model.predict(X_test)"
   ]
  },
  {
   "cell_type": "markdown",
   "id": "bb56d9f7",
   "metadata": {
    "papermill": {
     "duration": 0.015342,
     "end_time": "2023-08-31T09:02:04.614872",
     "exception": false,
     "start_time": "2023-08-31T09:02:04.599530",
     "status": "completed"
    },
    "tags": []
   },
   "source": [
    "## 5. Assessment"
   ]
  },
  {
   "cell_type": "markdown",
   "id": "7489f90c",
   "metadata": {
    "papermill": {
     "duration": 0.015446,
     "end_time": "2023-08-31T09:02:04.646215",
     "exception": false,
     "start_time": "2023-08-31T09:02:04.630769",
     "status": "completed"
    },
    "tags": []
   },
   "source": [
    "#### Let's see how our model performed!"
   ]
  },
  {
   "cell_type": "markdown",
   "id": "9187e069",
   "metadata": {
    "papermill": {
     "duration": 0.015291,
     "end_time": "2023-08-31T09:02:04.677446",
     "exception": false,
     "start_time": "2023-08-31T09:02:04.662155",
     "status": "completed"
    },
    "tags": []
   },
   "source": [
    "#### Mean squared error"
   ]
  },
  {
   "cell_type": "code",
   "execution_count": 14,
   "id": "a44d74f7",
   "metadata": {
    "execution": {
     "iopub.execute_input": "2023-08-31T09:02:04.710488Z",
     "iopub.status.busy": "2023-08-31T09:02:04.710070Z",
     "iopub.status.idle": "2023-08-31T09:02:04.718427Z",
     "shell.execute_reply": "2023-08-31T09:02:04.717261Z"
    },
    "papermill": {
     "duration": 0.027888,
     "end_time": "2023-08-31T09:02:04.721143",
     "exception": false,
     "start_time": "2023-08-31T09:02:04.693255",
     "status": "completed"
    },
    "tags": []
   },
   "outputs": [
    {
     "data": {
      "text/plain": [
       "0.0451478582316807"
      ]
     },
     "execution_count": 14,
     "metadata": {},
     "output_type": "execute_result"
    }
   ],
   "source": [
    "mse = mean_squared_error(preds, y_test)\n",
    "mse"
   ]
  },
  {
   "cell_type": "markdown",
   "id": "8a21d480",
   "metadata": {
    "papermill": {
     "duration": 0.015698,
     "end_time": "2023-08-31T09:02:04.753098",
     "exception": false,
     "start_time": "2023-08-31T09:02:04.737400",
     "status": "completed"
    },
    "tags": []
   },
   "source": [
    "#### Plotting"
   ]
  },
  {
   "cell_type": "code",
   "execution_count": 15,
   "id": "91b8fe12",
   "metadata": {
    "execution": {
     "iopub.execute_input": "2023-08-31T09:02:04.787216Z",
     "iopub.status.busy": "2023-08-31T09:02:04.786782Z",
     "iopub.status.idle": "2023-08-31T09:02:05.175398Z",
     "shell.execute_reply": "2023-08-31T09:02:05.174275Z"
    },
    "papermill": {
     "duration": 0.408814,
     "end_time": "2023-08-31T09:02:05.178125",
     "exception": false,
     "start_time": "2023-08-31T09:02:04.769311",
     "status": "completed"
    },
    "tags": []
   },
   "outputs": [
    {
     "data": {
      "image/png": "[encoded data removed]",
      "text/plain": [
       "<Figure size 1000x600 with 1 Axes>"
      ]
     },
     "metadata": {},
     "output_type": "display_data"
    }
   ],
   "source": [
    "import matplotlib.pyplot as plt\n",
    "\n",
    "plt.figure(figsize=(10, 6))\n",
    "plt.plot(y_test.index, preds, label='Predictions', color='red')\n",
    "plt.plot(X_df.index, X_df['div yield'], label='Actual Values', color='blue')\n",
    "\n",
    "plt.xlabel('Date')\n",
    "plt.ylabel('Div Yield')\n",
    "plt.title('Actual vs Predicted Dividend Yields')\n",
    "plt.legend()\n",
    "\n",
    "plt.show()"
   ]
  },
  {
   "cell_type": "markdown",
   "id": "06b9df82",
   "metadata": {
    "papermill": {
     "duration": 0.016291,
     "end_time": "2023-08-31T09:02:05.211163",
     "exception": false,
     "start_time": "2023-08-31T09:02:05.194872",
     "status": "completed"
    },
    "tags": []
   },
   "source": [
    "## Final Notes"
   ]
  },
  {
   "cell_type": "markdown",
   "id": "8b84a41a",
   "metadata": {
    "papermill": {
     "duration": 0.016368,
     "end_time": "2023-08-31T09:02:05.244724",
     "exception": false,
     "start_time": "2023-08-31T09:02:05.228356",
     "status": "completed"
    },
    "tags": []
   },
   "source": [
    "#### How practical is this model?\n",
    "* The use of this particular model is limited - we are only predicting yields one month into the future\n",
    "* Linear regression only captures linear relationships\n",
    "\n",
    "#### How could one improve this model?\n",
    "* Use other models more fit for capturing relationships in the data (this is where domain expertise becomes significant).\n",
    "* Examples are Multi-layer perceptrons, Long short term memory models, Random Forest Regressor...\n",
    "\n",
    "#### Why Dividend Yields?\n",
    "* Generally more stable than stock/bond prices, which are very complex to model due to the number of influencing factors."
   ]
  },
  {
   "cell_type": "markdown",
   "id": "361dec64",
   "metadata": {
    "papermill": {
     "duration": 0.016402,
     "end_time": "2023-08-31T09:02:05.277959",
     "exception": false,
     "start_time": "2023-08-31T09:02:05.261557",
     "status": "completed"
    },
    "tags": []
   },
   "source": [
    "#### Key takeaways\n",
    "* Machine Learning/Deep Learning can capture patterns in our data much more easily than humans!\n",
    "* The challenge lies in engineering your data (step 2) and choosing a model (step 3) such that your model can learn the necessary relationships between features and targets. It is important to understand the underlying themes behind your data (e.g., stationarity, frequency, driving factors)."
   ]
  }
 ],
 "kernelspec": {
  "display_name": "Python 3",
  "language": "python",
  "name": "python3"
 },
 "language_info": {
  "codemirror_mode": {
   "name": "ipython",
   "version": 3
  },
  "file_extension": ".py",
  "mimetype": "text/x-python",
  "name": "python",
  "nbconvert_exporter": "python",
  "pygments_lexer": "ipython3",
  "version": "3.6.4"
 },
 "metadata": {
  "kernelspec": {
   "display_name": "Python 3",
   "language": "python",
   "name": "python3"
  },
  "language_info": {
   "codemirror_mode": {
    "name": "ipython",
    "version": 3
   },
   "file_extension": ".py",
   "mimetype": "text/x-python",
   "name": "python",
   "nbconvert_exporter": "python",
   "pygments_lexer": "ipython3",
   "version": "3.10.12"
  },
  "papermill": {
   "default_parameters": {},
   "duration": 18.124139,
   "end_time": "2023-08-31T09:02:06.317581",
   "environment_variables": {},
   "exception": null,
   "input_path": "__notebook__.ipynb",
   "output_path": "__notebook__.ipynb",
   "parameters": {},
   "start_time": "2023-08-31T09:01:48.193442",
   "version": "2.4.0"
  }
 },
 "nbformat": 4,
 "nbformat_minor": 5
}
